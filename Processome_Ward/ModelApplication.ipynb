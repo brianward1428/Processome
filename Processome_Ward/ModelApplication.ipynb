{
 "cells": [
  {
   "cell_type": "markdown",
   "id": "abroad-prophet",
   "metadata": {},
   "source": [
    "# Model Application\n",
    "1. Pre-Process our labels\n",
    "2. compare any two labels (with or without the parenthesis considered separately)\n",
    "3. find all pairs of nodes which are similar above a certain threshold."
   ]
  },
  {
   "cell_type": "code",
   "execution_count": 1,
   "id": "supported-robin",
   "metadata": {},
   "outputs": [],
   "source": [
    "import pandas as pd\n",
    "from NodeSim import NodeSim\n",
    "from gensim.models import Word2Vec\n",
    "from timeit import default_timer as timer\n",
    "import seaborn as sns\n"
   ]
  },
  {
   "cell_type": "markdown",
   "id": "descending-fourth",
   "metadata": {},
   "source": [
    "## Read in Nodes and Process Labels\n",
    "Here we will be considering the information inside and outside the parethesis seperately. "
   ]
  },
  {
   "cell_type": "code",
   "execution_count": 2,
   "id": "pointed-mainstream",
   "metadata": {},
   "outputs": [],
   "source": [
    "# read in data\n",
    "df = pd.read_csv(\"siren_network_nodes 121520.csv\")\n",
    "\n",
    "slim = df['label'].tolist()"
   ]
  },
  {
   "cell_type": "code",
   "execution_count": null,
   "id": "adapted-tunisia",
   "metadata": {},
   "outputs": [],
   "source": []
  },
  {
   "cell_type": "markdown",
   "id": "isolated-insight",
   "metadata": {},
   "source": [
    "## processStrings\n",
    "**FUNCTION :** processStrings  \n",
    "**INPUT:**  \n",
    "&nbsp;&nbsp;&nbsp;&nbsp;&nbsp;&nbsp; **labels:** list of labels or strings to be processed for model comparisons.(if element of list is not of type = string it will be ignored.)  \n",
    "&nbsp;&nbsp;&nbsp;&nbsp;&nbsp;&nbsp; **removeParenthesis:** Boolean; default = True. if True parenthesis will be removed and processed seperately.    \n",
    "&nbsp;&nbsp;&nbsp;&nbsp;&nbsp;&nbsp; **termsToBeRemoved:** list of strings which will be removed from the labels (default = [])  \n",
    "&nbsp;&nbsp;&nbsp;&nbsp;&nbsp;&nbsp; **removeStopWords:** Boolean; default = True. if True given stop words will be remvoed from labels.  \n",
    "&nbsp;&nbsp;&nbsp;&nbsp;&nbsp;&nbsp; **stopWords:** set of stop words to be removed. (default is [nltk's english stop words](https://gist.github.com/sebleier/554280)  )  \n",
    "&nbsp;&nbsp;&nbsp;&nbsp;&nbsp;&nbsp; **locateBigrams:** Boolean; default = True. if True will locate and concat  bigrams with given minimum count.   \n",
    "&nbsp;&nbsp;&nbsp;&nbsp;&nbsp;&nbsp; **bigramMinCount:** int; minimum count for bigrams to be processed. (default = 5).  \n",
    "\n",
    "**OUTPUT:** pandas dataframe containing raw input labels, cleaned labels, and parenthesis labels (if removeParenthesis = True)  \n",
    "**DESCRIPTION:** this is a pre-processing step to get data ready for the model training and comparisons.  \n"
   ]
  },
  {
   "cell_type": "code",
   "execution_count": 3,
   "id": "starting-hygiene",
   "metadata": {},
   "outputs": [],
   "source": [
    "# these terms were hand-picked after looking at some of the most frequent words..\n",
    "termsToBeRemoved = [\"(efsa foodex2)\",\"(efsa foodex)\",\"and similar\",\"probably\", \"other\",\"food\",\"plant\", \"raw\", \"(us cfr)\",\"(gs gpc)\",\"products\", \"product\",\"obsolete\"]\n",
    "\n",
    "NS = NodeSim()\n",
    "\n",
    "labels = NS.processStrings(labels = slim, termsToBeRemoved = termsToBeRemoved)\n",
    "\n"
   ]
  },
  {
   "cell_type": "code",
   "execution_count": 4,
   "id": "western-brisbane",
   "metadata": {},
   "outputs": [
    {
     "data": {
      "text/html": [
       "<div>\n",
       "<style scoped>\n",
       "    .dataframe tbody tr th:only-of-type {\n",
       "        vertical-align: middle;\n",
       "    }\n",
       "\n",
       "    .dataframe tbody tr th {\n",
       "        vertical-align: top;\n",
       "    }\n",
       "\n",
       "    .dataframe thead th {\n",
       "        text-align: right;\n",
       "    }\n",
       "</style>\n",
       "<table border=\"1\" class=\"dataframe\">\n",
       "  <thead>\n",
       "    <tr style=\"text-align: right;\">\n",
       "      <th></th>\n",
       "      <th>raw</th>\n",
       "      <th>clean</th>\n",
       "      <th>parenthesis</th>\n",
       "    </tr>\n",
       "  </thead>\n",
       "  <tbody>\n",
       "    <tr>\n",
       "      <th>0</th>\n",
       "      <td>whole wheat crispbread</td>\n",
       "      <td>[whole wheat, crispbread]</td>\n",
       "      <td>[]</td>\n",
       "    </tr>\n",
       "    <tr>\n",
       "      <th>1</th>\n",
       "      <td>USDA SR sweets (1900)</td>\n",
       "      <td>[usda sr, sweets]</td>\n",
       "      <td>[]</td>\n",
       "    </tr>\n",
       "    <tr>\n",
       "      <th>2</th>\n",
       "      <td>gruenland cheese</td>\n",
       "      <td>[gruenland, cheese]</td>\n",
       "      <td>[]</td>\n",
       "    </tr>\n",
       "    <tr>\n",
       "      <th>3</th>\n",
       "      <td>citron melon food product</td>\n",
       "      <td>[citron, melon]</td>\n",
       "      <td>[]</td>\n",
       "    </tr>\n",
       "    <tr>\n",
       "      <th>4</th>\n",
       "      <td>blueflag plant</td>\n",
       "      <td>[blueflag]</td>\n",
       "      <td>[]</td>\n",
       "    </tr>\n",
       "    <tr>\n",
       "      <th>5</th>\n",
       "      <td>CCFAC beverages; excluding dairy products</td>\n",
       "      <td>[ccfac, beverages, excluding, dairy]</td>\n",
       "      <td>[]</td>\n",
       "    </tr>\n",
       "    <tr>\n",
       "      <th>6</th>\n",
       "      <td>independent continuant</td>\n",
       "      <td>[independent, continuant]</td>\n",
       "      <td>[]</td>\n",
       "    </tr>\n",
       "    <tr>\n",
       "      <th>7</th>\n",
       "      <td>habanero pepper plant</td>\n",
       "      <td>[habanero, pepper]</td>\n",
       "      <td>[]</td>\n",
       "    </tr>\n",
       "    <tr>\n",
       "      <th>8</th>\n",
       "      <td>bullhead</td>\n",
       "      <td>[bullhead]</td>\n",
       "      <td>[]</td>\n",
       "    </tr>\n",
       "    <tr>\n",
       "      <th>9</th>\n",
       "      <td>lisita (raw)</td>\n",
       "      <td>[lisita]</td>\n",
       "      <td>[]</td>\n",
       "    </tr>\n",
       "    <tr>\n",
       "      <th>10</th>\n",
       "      <td>light cream</td>\n",
       "      <td>[light, cream]</td>\n",
       "      <td>[]</td>\n",
       "    </tr>\n",
       "    <tr>\n",
       "      <th>11</th>\n",
       "      <td>33770 - sangria (efsa foodex2)</td>\n",
       "      <td>[sangria]</td>\n",
       "      <td>[]</td>\n",
       "    </tr>\n",
       "    <tr>\n",
       "      <th>12</th>\n",
       "      <td>coffee bean (whole or ground)</td>\n",
       "      <td>[coffee, bean]</td>\n",
       "      <td>[whole, ground]</td>\n",
       "    </tr>\n",
       "    <tr>\n",
       "      <th>13</th>\n",
       "      <td>pudding sugar-free instant</td>\n",
       "      <td>[pudding, sugar, free, instant]</td>\n",
       "      <td>[]</td>\n",
       "    </tr>\n",
       "    <tr>\n",
       "      <th>14</th>\n",
       "      <td>vegetable shortening</td>\n",
       "      <td>[vegetable, shortening]</td>\n",
       "      <td>[]</td>\n",
       "    </tr>\n",
       "    <tr>\n",
       "      <th>15</th>\n",
       "      <td>soup base flavored with beef extract</td>\n",
       "      <td>[soup, base, flavored, with, beef, extract]</td>\n",
       "      <td>[]</td>\n",
       "    </tr>\n",
       "    <tr>\n",
       "      <th>16</th>\n",
       "      <td>beef eye round (roasted)</td>\n",
       "      <td>[beef, eye, round]</td>\n",
       "      <td>[roasted]</td>\n",
       "    </tr>\n",
       "    <tr>\n",
       "      <th>17</th>\n",
       "      <td>laminate tube; unlined aluminum ends</td>\n",
       "      <td>[laminate tube, unlined, aluminum, ends]</td>\n",
       "      <td>[]</td>\n",
       "    </tr>\n",
       "    <tr>\n",
       "      <th>18</th>\n",
       "      <td>43050 - macadamia flavour (efsa foodex2)</td>\n",
       "      <td>[macadamia, flavour]</td>\n",
       "      <td>[]</td>\n",
       "    </tr>\n",
       "    <tr>\n",
       "      <th>19</th>\n",
       "      <td>ice krill</td>\n",
       "      <td>[ice, krill]</td>\n",
       "      <td>[]</td>\n",
       "    </tr>\n",
       "    <tr>\n",
       "      <th>20</th>\n",
       "      <td>neogastropod</td>\n",
       "      <td>[neogastropod]</td>\n",
       "      <td>[]</td>\n",
       "    </tr>\n",
       "    <tr>\n",
       "      <th>21</th>\n",
       "      <td>guava (dried)</td>\n",
       "      <td>[guava]</td>\n",
       "      <td>[dried]</td>\n",
       "    </tr>\n",
       "    <tr>\n",
       "      <th>22</th>\n",
       "      <td>fruit sherbet (artificially sweetened)</td>\n",
       "      <td>[fruit, sherbet]</td>\n",
       "      <td>[artificially, sweetened]</td>\n",
       "    </tr>\n",
       "    <tr>\n",
       "      <th>23</th>\n",
       "      <td>40200 - salads (efsa foodex2)</td>\n",
       "      <td>[salads]</td>\n",
       "      <td>[]</td>\n",
       "    </tr>\n",
       "    <tr>\n",
       "      <th>24</th>\n",
       "      <td>soursop (whole; raw)</td>\n",
       "      <td>[soursop]</td>\n",
       "      <td>[whole]</td>\n",
       "    </tr>\n",
       "  </tbody>\n",
       "</table>\n",
       "</div>"
      ],
      "text/plain": [
       "                                          raw  \\\n",
       "0                      whole wheat crispbread   \n",
       "1                       USDA SR sweets (1900)   \n",
       "2                            gruenland cheese   \n",
       "3                   citron melon food product   \n",
       "4                              blueflag plant   \n",
       "5   CCFAC beverages; excluding dairy products   \n",
       "6                      independent continuant   \n",
       "7                       habanero pepper plant   \n",
       "8                                    bullhead   \n",
       "9                                lisita (raw)   \n",
       "10                                light cream   \n",
       "11             33770 - sangria (efsa foodex2)   \n",
       "12              coffee bean (whole or ground)   \n",
       "13                 pudding sugar-free instant   \n",
       "14                       vegetable shortening   \n",
       "15       soup base flavored with beef extract   \n",
       "16                   beef eye round (roasted)   \n",
       "17       laminate tube; unlined aluminum ends   \n",
       "18   43050 - macadamia flavour (efsa foodex2)   \n",
       "19                                  ice krill   \n",
       "20                               neogastropod   \n",
       "21                              guava (dried)   \n",
       "22     fruit sherbet (artificially sweetened)   \n",
       "23              40200 - salads (efsa foodex2)   \n",
       "24                       soursop (whole; raw)   \n",
       "\n",
       "                                          clean                parenthesis  \n",
       "0                     [whole wheat, crispbread]                         []  \n",
       "1                             [usda sr, sweets]                         []  \n",
       "2                           [gruenland, cheese]                         []  \n",
       "3                               [citron, melon]                         []  \n",
       "4                                    [blueflag]                         []  \n",
       "5          [ccfac, beverages, excluding, dairy]                         []  \n",
       "6                     [independent, continuant]                         []  \n",
       "7                            [habanero, pepper]                         []  \n",
       "8                                    [bullhead]                         []  \n",
       "9                                      [lisita]                         []  \n",
       "10                               [light, cream]                         []  \n",
       "11                                    [sangria]                         []  \n",
       "12                               [coffee, bean]            [whole, ground]  \n",
       "13              [pudding, sugar, free, instant]                         []  \n",
       "14                      [vegetable, shortening]                         []  \n",
       "15  [soup, base, flavored, with, beef, extract]                         []  \n",
       "16                           [beef, eye, round]                  [roasted]  \n",
       "17     [laminate tube, unlined, aluminum, ends]                         []  \n",
       "18                         [macadamia, flavour]                         []  \n",
       "19                                 [ice, krill]                         []  \n",
       "20                               [neogastropod]                         []  \n",
       "21                                      [guava]                    [dried]  \n",
       "22                             [fruit, sherbet]  [artificially, sweetened]  \n",
       "23                                     [salads]                         []  \n",
       "24                                    [soursop]                    [whole]  "
      ]
     },
     "execution_count": 4,
     "metadata": {},
     "output_type": "execute_result"
    }
   ],
   "source": [
    "# sample\n",
    "labels.head(25)"
   ]
  },
  {
   "cell_type": "markdown",
   "id": "familiar-launch",
   "metadata": {},
   "source": [
    "# Now lets import our Model and try using it."
   ]
  },
  {
   "cell_type": "code",
   "execution_count": 5,
   "id": "helpful-faith",
   "metadata": {},
   "outputs": [],
   "source": [
    "model = Word2Vec.load(\"final.model\")"
   ]
  },
  {
   "cell_type": "markdown",
   "id": "british-vampire",
   "metadata": {},
   "source": [
    "## modelSim\n",
    "**FUNCTION :** modelSim  \n",
    "**INPUT:**  \n",
    "&nbsp;&nbsp;&nbsp;&nbsp;&nbsp;&nbsp; **model:** Gensim Word2Vec Model to be used for comparison      \n",
    "&nbsp;&nbsp;&nbsp;&nbsp;&nbsp;&nbsp; **termsA:** list of strings to be compared  \n",
    "&nbsp;&nbsp;&nbsp;&nbsp;&nbsp;&nbsp; **termsB:** list of strings to be compared  \n",
    "&nbsp;&nbsp;&nbsp;&nbsp;&nbsp;&nbsp; **considerRemoved:** Boolean, if True, the ratio of removed terms will be considered.(Default = True)  \n",
    "&nbsp;&nbsp;&nbsp;&nbsp;&nbsp;&nbsp; **removedWeight:** float : 0.0 - 1.0 weight for how the removed terms should affect the total sim value   \n",
    "\n",
    "**OUTPUT:** Similarity Value : 0.0 - 1.0  \n",
    "**DESCRIPTION:** This function will take the given model and use it to compare the two given lists of terms. This is for comparing labels (without considering parenthesis separately). \n",
    "\n",
    "\n"
   ]
  },
  {
   "cell_type": "code",
   "execution_count": 6,
   "id": "complete-algeria",
   "metadata": {},
   "outputs": [
    {
     "name": "stdout",
     "output_type": "stream",
     "text": [
      "sim : '33770 - sangria (efsa foodex2)' vs 'soup base flavored with beef extract' = 0.7669535279273987\n"
     ]
    }
   ],
   "source": [
    "# example usage:\n",
    "simVal = NS.Sim(model = model, termsA = labels['clean'][11], termsB = labels['clean'][15], considerRemoved = True)\n",
    "print(\"sim : '{}' vs '{}' = {}\".format(labels['raw'][11], labels['raw'][15], simVal))"
   ]
  },
  {
   "cell_type": "markdown",
   "id": "minor-madrid",
   "metadata": {},
   "source": [
    "## SimWithParenthesis\n",
    "**FUNCTION :** SimWithParenthesis  \n",
    "**INPUT:**  \n",
    "&nbsp;&nbsp;&nbsp;&nbsp;&nbsp;&nbsp; **model:** Gensim Word2Vec Model to be used for comparison      \n",
    "&nbsp;&nbsp;&nbsp;&nbsp;&nbsp;&nbsp; **termsA_outsideP:** list of strings outside parenthesis from label A  \n",
    "&nbsp;&nbsp;&nbsp;&nbsp;&nbsp;&nbsp; **termsA_insideP:** list of strings inside parenthesis from label A    \n",
    "&nbsp;&nbsp;&nbsp;&nbsp;&nbsp;&nbsp; **termsB_outsideP:** list of strings outside parenthesis from label B   \n",
    "&nbsp;&nbsp;&nbsp;&nbsp;&nbsp;&nbsp; **termsB_insideP:** list of strings inside parenthesis from label B  \n",
    "&nbsp;&nbsp;&nbsp;&nbsp;&nbsp;&nbsp; **pWeight:** float 0.0 - 1.0 weight at which to apply to information within the parenthesis  \n",
    "&nbsp;&nbsp;&nbsp;&nbsp;&nbsp;&nbsp; **considerRemoved:** Boolean, if True, the ratio of removed terms will be considered.(Default = True)  \n",
    "&nbsp;&nbsp;&nbsp;&nbsp;&nbsp;&nbsp; **removedWeight:** float : 0.0 - 1.0 weight for how the removed terms should affect the total sim value   \n",
    "\n",
    "**OUTPUT:** Similarity Value : float 0.0 - 1.0  \n",
    "**DESCRIPTION:** this function will take the given model and use it to compare the two labels, treating the information inside the parenthesis separately and weighted. \n",
    "\n",
    "\n",
    "\n"
   ]
  },
  {
   "cell_type": "code",
   "execution_count": 7,
   "id": "surgical-mozambique",
   "metadata": {},
   "outputs": [],
   "source": [
    "# example usage:\n",
    "\n",
    "simVal2 = NS.SimWithParenthesis(model = model, termsA_outsideP = labels['clean'][11], termsA_insideP = labels['parenthesis'][11], \n",
    "                                termsB_outsideP = labels['clean'][15], termsB_insideP = labels['parenthesis'][15], \n",
    "                                pWeight = 0.2, considerRemoved = True, removedWeight = 1.0)\n"
   ]
  },
  {
   "cell_type": "code",
   "execution_count": 8,
   "id": "english-spanish",
   "metadata": {},
   "outputs": [
    {
     "name": "stdout",
     "output_type": "stream",
     "text": [
      "sim : '33770 - sangria (efsa foodex2)' vs 'soup base flavored with beef extract' = 0.7669535279273987\n"
     ]
    }
   ],
   "source": [
    "print(\"sim : '{}' vs '{}' = {}\".format(labels['raw'][11], labels['raw'][15], simVal2))"
   ]
  },
  {
   "cell_type": "markdown",
   "id": "collect-cameroon",
   "metadata": {},
   "source": [
    "# SimAllNodes"
   ]
  },
  {
   "cell_type": "code",
   "execution_count": 9,
   "id": "loved-treasury",
   "metadata": {},
   "outputs": [],
   "source": [
    "# lets start with a sample. \n",
    "# labels_sample = labels.sample(n=2000, random_state=13).reset_index()\n"
   ]
  },
  {
   "cell_type": "code",
   "execution_count": 10,
   "id": "rental-elevation",
   "metadata": {},
   "outputs": [
    {
     "name": "stdout",
     "output_type": "stream",
     "text": [
      "elapsed time : 11998.635222417\n"
     ]
    }
   ],
   "source": [
    "THRESHOLD = 0.999\n",
    "\n",
    "start_time = timer()\n",
    "results = NS.SimAllNodes(model, labels['clean'].tolist(), labels['parenthesis'].tolist(), pWeight = 0.2, removedWeight = 0.01, includeLabels = False, includeThreshold = True, threshold = THRESHOLD)\n",
    "# results = NS.SimAllNodes(model, labels['clean'].tolist(), labels['parenthesis'].tolist(), pWeight = 0.3, removedWeight = 0.3, includeLabels = True, includeThreshold = True, threshold = THRESHOLD)\n",
    "\n",
    "elapsed_time = timer() - start_time # in seconds\n",
    "\n",
    "print('elapsed time : {}'.format(elapsed_time))"
   ]
  },
  {
   "cell_type": "code",
   "execution_count": 11,
   "id": "immune-cyprus",
   "metadata": {},
   "outputs": [],
   "source": [
    "# results.to_csv(\"sims_threshold_0999.csv\")"
   ]
  },
  {
   "cell_type": "code",
   "execution_count": 12,
   "id": "major-semiconductor",
   "metadata": {},
   "outputs": [],
   "source": [
    "# plot = sns.displot(results, x=\"simVal\", bins=200).set(xlim=(-0.75,1.0), ylim=(0,160000))\n",
    "# plot = sns.displot(results, x=\"simVal\", bins=200)\n",
    "\n",
    "\n",
    "# plot.fig.set_figwidth(10)\n",
    "# plot.fig.set_figheight(10)\n",
    "# plot\n",
    "\n"
   ]
  },
  {
   "cell_type": "code",
   "execution_count": 13,
   "id": "sophisticated-coalition",
   "metadata": {},
   "outputs": [],
   "source": [
    "# results.sort_values(\"simVal\", ascending = False).head(50)\n",
    "# results.sort_values(\"simVal\").head(50)"
   ]
  },
  {
   "cell_type": "code",
   "execution_count": 14,
   "id": "polished-daniel",
   "metadata": {},
   "outputs": [
    {
     "data": {
      "text/plain": [
       "11416"
      ]
     },
     "execution_count": 14,
     "metadata": {},
     "output_type": "execute_result"
    }
   ],
   "source": [
    "len(results)"
   ]
  },
  {
   "cell_type": "code",
   "execution_count": 15,
   "id": "vertical-owner",
   "metadata": {},
   "outputs": [],
   "source": [
    "# why is scallop 1.0 ...\n",
    "# - oh because i only compare if theyr both non-empty... this should effect the score...\n",
    "# but also they are very similar..\n",
    "# this brings up the point of how would we handle specificity\n",
    "# talk about plant..."
   ]
  },
  {
   "cell_type": "markdown",
   "id": "known-works",
   "metadata": {},
   "source": []
  },
  {
   "cell_type": "code",
   "execution_count": null,
   "id": "nutritional-asian",
   "metadata": {},
   "outputs": [],
   "source": []
  },
  {
   "cell_type": "code",
   "execution_count": null,
   "id": "prepared-remedy",
   "metadata": {},
   "outputs": [],
   "source": []
  }
 ],
 "metadata": {
  "kernelspec": {
   "display_name": "Python 3",
   "language": "python",
   "name": "python3"
  },
  "language_info": {
   "codemirror_mode": {
    "name": "ipython",
    "version": 3
   },
   "file_extension": ".py",
   "mimetype": "text/x-python",
   "name": "python",
   "nbconvert_exporter": "python",
   "pygments_lexer": "ipython3",
   "version": "3.9.1"
  }
 },
 "nbformat": 4,
 "nbformat_minor": 5
}
